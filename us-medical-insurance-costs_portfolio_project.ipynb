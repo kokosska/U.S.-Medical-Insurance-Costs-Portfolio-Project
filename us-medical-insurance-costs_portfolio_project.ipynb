{
 "cells": [
  {
   "cell_type": "markdown",
   "metadata": {},
   "source": [
    "# U.S. Medical Insurance Costs"
   ]
  },
  {
   "cell_type": "markdown",
   "metadata": {},
   "source": [
    "This is a project launched at Codecademy and it is a part of Data Scientist Career Path. More information [here](https://www.codecademy.com/learn/paths/data-science)"
   ]
  },
  {
   "cell_type": "markdown",
   "metadata": {},
   "source": [
    "***In this file I will analyze the data from file insurance.csv***"
   ]
  },
  {
   "cell_type": "markdown",
   "metadata": {},
   "source": [
    "***U.S. Medical Insurance Costs is a part of my first portfolio project from Codecademy***"
   ]
  },
  {
   "cell_type": "markdown",
   "metadata": {},
   "source": [
    "First thing that need to be done is `import csv library`"
   ]
  },
  {
   "cell_type": "code",
   "execution_count": 1,
   "metadata": {},
   "outputs": [],
   "source": [
    "import csv"
   ]
  },
  {
   "cell_type": "markdown",
   "metadata": {},
   "source": [
    "The file **insurance.csv** contains the following columns:\n",
    "\n",
    "* Age of Patient\n",
    "* Sex of Patient\n",
    "* BMI of Patient\n",
    "* Number of Children\n",
    "* Smoker status\n",
    "* The Region in USA\n",
    "* Insurance Cost of Patient\n"
   ]
  },
  {
   "cell_type": "code",
   "execution_count": 2,
   "metadata": {},
   "outputs": [
    {
     "name": "stdout",
     "output_type": "stream",
     "text": [
      "<class 'int'>\n",
      "19\n",
      "<class 'str'>\n",
      "female\n",
      "<class 'float'>\n",
      "27.9\n",
      "<class 'int'>\n",
      "0\n",
      "<class 'str'>\n",
      "yes\n",
      "<class 'str'>\n",
      "southwest\n",
      "<class 'float'>\n",
      "16884.924\n"
     ]
    }
   ],
   "source": [
    "# I imported a file insurance.csv and now I need to create variables\n",
    "# I created the variables and assigned the appropriate lines from the file to them\n",
    " \n",
    "with open('insurance.csv') as insurance_file:\n",
    "    ages = []\n",
    "    gender_list = []\n",
    "    bmis = []\n",
    "    children_list = []\n",
    "    smoker_status = []\n",
    "    region = []\n",
    "    costs = []\n",
    "    ins_data = csv.DictReader(insurance_file, delimiter = ',')\n",
    "    for record in ins_data:\n",
    "        ages.append(int(record['age']))\n",
    "        gender_list.append(record['sex'])\n",
    "        bmis.append(float(record['bmi']))\n",
    "        children_list.append(int(record['children']))\n",
    "        smoker_status.append(record['smoker'])\n",
    "        region.append(record['region'])\n",
    "        costs.append(float(record['charges']))\n",
    "        \n",
    "# I check how my code works\n",
    "print(type(ages[0]))\n",
    "print(ages[0])\n",
    "print(type(gender_list[0]))\n",
    "print(gender_list[0])\n",
    "print(type(bmis[0]))\n",
    "print(bmis[0])\n",
    "print(type(children_list[0]))\n",
    "print(children_list[0])\n",
    "print(type(smoker_status[0]))\n",
    "print(smoker_status[0])\n",
    "print(type(region[0]))\n",
    "print(region[0])\n",
    "print(type(costs[0]))\n",
    "print(costs[0])"
   ]
  },
  {
   "cell_type": "code",
   "execution_count": 3,
   "metadata": {},
   "outputs": [
    {
     "name": "stdout",
     "output_type": "stream",
     "text": [
      "{'Age': 61, 'Sex': 'female', 'BMI': 29.07, 'Number of Children': 0, 'Smoker Status': 'yes', 'Region': 'northwest', 'Insurance Cost': 29141.3603}\n"
     ]
    }
   ],
   "source": [
    "# working on lists turned out to be too difficult, therefore a good solution is to create a dictionary \n",
    "# as a key I will set a range of numbers from 0 to 1337 (a total of 1338 records)\n",
    "\n",
    "def ins_data_dictionary(ages, gender_list, bmis, children_list, smoker_status, region, costs):\n",
    "    dkey = []\n",
    "    i = 0\n",
    "    while i < 1338:\n",
    "        dkey.append(i)\n",
    "        i += 1\n",
    "    ins_dict = {}\n",
    "    for i in dkey:\n",
    "        ins_dict[i] = {'Age': ages[i], 'Sex': gender_list[i], 'BMI': bmis[i], 'Number of Children': children_list[i], 'Smoker Status': smoker_status[i], 'Region': region[i], 'Insurance Cost':  costs[i]}\n",
    "        i += 1\n",
    "    return ins_dict \n",
    "data = ins_data_dictionary(ages, gender_list, bmis, children_list, smoker_status, region, costs)\n",
    "print(data[1337])"
   ]
  },
  {
   "cell_type": "markdown",
   "metadata": {},
   "source": [
    "**The following analysis give information about:**\n",
    "* specific regions in the USA where the people from our file lives \n",
    "* average Insurance Cost in extracted regions\n",
    "* amount of records in each of extracted regions\n",
    "* average Yearly Insurance Cost in dollars for population\n",
    "* average Insurance Cost for women and man\n",
    "* the difference in insurance between men and women\n",
    "* average Insurance Cost for smokers and non-smoker person\n",
    "* the difference in insurance between smokers and non-smoker person\n",
    "* count how many smoker and non-smoker people are in our file\n",
    "* average Insurance Cost for people into groups according to their BMI value according to the WHO methodology\n",
    "* average Insurance Cost for people into groups according to the number of children they have\n",
    "* average age for population in file\n",
    "* average Age for people into groups according to the number of children they have\n",
    "* average Insurance Cost for people into groups according to the Age Generation they belong: [Baby Boomers, Generation X, Millenials, Generation Z]\n",
    "* average Insurance Cost for women and men according to the Age Generation they belong \n",
    "* average Insurance Cost for smoker and non-smoker according to the Age Generation they belong \n",
    "* average Insurance Cost for [smoker and non-smoker] and [female and male] according to the Age Generation they belong"
   ]
  },
  {
   "cell_type": "code",
   "execution_count": 4,
   "metadata": {},
   "outputs": [
    {
     "name": "stdout",
     "output_type": "stream",
     "text": [
      "The following regions can be extracted from the file: ['southwest', 'southeast', 'northwest', 'northeast']\n"
     ]
    }
   ],
   "source": [
    "# specific regions in the USA where the people from our file lives\n",
    "\n",
    "def different_regions(region):\n",
    "    reg = []\n",
    "    for element in region:\n",
    "        if element not in reg:\n",
    "            reg.append(element)\n",
    "    return 'The following regions can be extracted from the file: ' + str(reg)\n",
    "regs = different_regions(region)\n",
    "print(regs)"
   ]
  },
  {
   "cell_type": "code",
   "execution_count": 5,
   "metadata": {},
   "outputs": [
    {
     "name": "stdout",
     "output_type": "stream",
     "text": [
      "The average Insurance Cost for Southwest Region is: 12346.94 dollars and there are 325 records in this region.\n",
      "The average Insurance Cost for Southeast Region is: 14735.41 dollars and there are 364 records in this region.\n",
      "The average Insurance Cost for Northwest Region is: 12417.58 dollars and there are 325 records in this region.\n",
      "The average Insurance Cost for Northeast Region is: 13406.38 dollars and there are 324 records in this region.\n"
     ]
    }
   ],
   "source": [
    "# average Insurance Cost in extracted regions\n",
    "# amount of records in each of extracted regions\n",
    "\n",
    "def cost_per_region(data):\n",
    "    total_sw = 0\n",
    "    total_se = 0\n",
    "    total_nw = 0\n",
    "    total_ne = 0\n",
    "    i = 0\n",
    "    count_sw = 0\n",
    "    count_se = 0\n",
    "    count_nw = 0\n",
    "    count_ne = 0\n",
    "    for i in data:\n",
    "        if data[i]['Region'] == 'southwest':\n",
    "            total_sw += float(data[i]['Insurance Cost'])\n",
    "            count_sw += 1\n",
    "        elif data[i]['Region'] == 'southeast':\n",
    "            total_se += float(data[i]['Insurance Cost'])\n",
    "            count_se += 1\n",
    "        elif data[i]['Region'] == 'northwest':\n",
    "            total_nw += float(data[i]['Insurance Cost'])\n",
    "            count_nw += 1\n",
    "        elif data[i]['Region'] == 'northeast':\n",
    "            total_ne += float(data[i]['Insurance Cost'])\n",
    "            count_ne += 1\n",
    "        i += 1\n",
    "    average_sw = round((total_sw / count_sw), 2)\n",
    "    average_se = round((total_se / count_se), 2)\n",
    "    average_nw = round((total_nw / count_nw), 2)\n",
    "    average_ne = round((total_ne / count_ne), 2)\n",
    "    return 'The average Insurance Cost for Southwest Region is: ' + str(average_sw) + ' dollars and there are ' + str(count_sw) + ' records in this region.' + '\\nThe average Insurance Cost for Southeast Region is: ' + str(average_se) + ' dollars and there are ' + str(count_se) + ' records in this region.' + '\\nThe average Insurance Cost for Northwest Region is: ' + str(average_nw) + ' dollars and there are ' + str(count_nw) + ' records in this region.' + '\\nThe average Insurance Cost for Northeast Region is: ' + str(average_ne) + ' dollars and there are ' + str(count_ne) + ' records in this region.'\n",
    "total_region = cost_per_region(data)\n",
    "print(total_region)"
   ]
  },
  {
   "cell_type": "code",
   "execution_count": 6,
   "metadata": {},
   "outputs": [
    {
     "name": "stdout",
     "output_type": "stream",
     "text": [
      "The average amount for Insurance Cost is 13270.42 dollars.\n"
     ]
    }
   ],
   "source": [
    "# average Yearly Insurance Cost in dollars for population\n",
    "\n",
    "def average_cost(costs):\n",
    "    total_sum = 0\n",
    "    for num in costs:\n",
    "        total_sum += float(num)\n",
    "        average_sum = round((total_sum / len(costs)), 2)\n",
    "    return 'The average amount for Insurance Cost is ' + str(average_sum) + ' dollars.'\n",
    "ave_cost = average_cost(costs)\n",
    "print(ave_cost)"
   ]
  },
  {
   "cell_type": "code",
   "execution_count": 7,
   "metadata": {},
   "outputs": [
    {
     "name": "stdout",
     "output_type": "stream",
     "text": [
      "The average Insurance Cost for women is: 12569.58 dollars.\n",
      "The average Insurance Cost for men is: 13956.75 dollars.\n",
      "The Insurance Cost for men is 1387.17 dollars higher than for women.\n"
     ]
    }
   ],
   "source": [
    "# average Insurance Cost for women and man\n",
    "# the difference in insurance between men and women\n",
    "\n",
    "def average_per_gender(data):\n",
    "    cost_m = 0\n",
    "    count_m = 0\n",
    "    cost_w = 0\n",
    "    count_w = 0\n",
    "    i = 0\n",
    "    for i in data: \n",
    "        if data[i]['Sex'] == 'female':\n",
    "            cost_w += data[i]['Insurance Cost']\n",
    "            count_w += 1\n",
    "        else:\n",
    "            cost_m += data[i]['Insurance Cost']\n",
    "            count_m += 1\n",
    "        i += 1\n",
    "    average_w = round((cost_w / count_w), 2)\n",
    "    average_m = round((cost_m / count_m), 2)\n",
    "    diff = average_m - average_w\n",
    "    return 'The average Insurance Cost for women is: ' + str(average_w) + ' dollars.' + '\\nThe average Insurance Cost for men is: ' + str(average_m) + ' dollars.' + '\\nThe Insurance Cost for men is ' + str(diff) + ' dollars higher than for women.'\n",
    "ave_gender = average_per_gender(data)\n",
    "print(ave_gender)"
   ]
  },
  {
   "cell_type": "code",
   "execution_count": 8,
   "metadata": {},
   "outputs": [
    {
     "name": "stdout",
     "output_type": "stream",
     "text": [
      "The average Insurance Cost for smoker is: 32050.23 dollars\n",
      "The average Insurance Cost for non-smoker is: 8434.27 dollars.\n",
      "Smoker person pay 23615.96 dollars more for insurance than non-smoker person.\n",
      "In this file we have 274 records for smoker and 1064 records for non-smoker person.\n"
     ]
    }
   ],
   "source": [
    "# average Insurance Cost for smokers and non-smoker person\n",
    "# the difference in insurance between smokers and non-smoker person\n",
    "# count how many smoker and non-smoker people are in our file\n",
    "\n",
    "def average_per_smoking(data):\n",
    "    sum_s = 0\n",
    "    count_s = 0\n",
    "    sum_ns = 0\n",
    "    count_ns = 0\n",
    "    i = 0\n",
    "    for i in data:\n",
    "        if data[i]['Smoker Status'] == 'yes':\n",
    "            sum_s += data[i]['Insurance Cost']\n",
    "            count_s += 1\n",
    "        else:\n",
    "            sum_ns += data[i]['Insurance Cost']\n",
    "            count_ns += 1\n",
    "        i += 1\n",
    "    average_s = round((sum_s / count_s), 2)\n",
    "    average_ns = round((sum_ns / count_ns), 2)\n",
    "    diff = average_s - average_ns\n",
    "    return 'The average Insurance Cost for smoker is: ' + str(average_s) + ' dollars' + '\\nThe average Insurance Cost for non-smoker is: ' +str(average_ns) + ' dollars.' + '\\nSmoker person pay ' + str(diff) + ' dollars more for insurance than non-smoker person.' + '\\nIn this file we have ' + str(count_s) + ' records for smoker and ' + str(count_ns) + ' records for non-smoker person.'\n",
    "ave_smoker = average_per_smoking(data)\n",
    "print(ave_smoker)"
   ]
  },
  {
   "cell_type": "code",
   "execution_count": 9,
   "metadata": {},
   "outputs": [
    {
     "name": "stdout",
     "output_type": "stream",
     "text": [
      "The average Insurance Cost for obese group is: 15560.93 dollars.\n",
      "The average Insurance Cost for overweight group is: 10995.43 dollars.\n",
      "The average Insurance Cost for normal group is: 10409.34 dollars.\n",
      "The average Insurance Cost for underweight group is: 8852.2 dollars.\n"
     ]
    }
   ],
   "source": [
    "# average Insurance Cost for people into groups according to their BMI value according to the WHO methodology\n",
    "# BMI > 30 --> obese, BMI >= 25 and bmi <= 30 --> overweight\n",
    "# BMI >= 18.5 and bmi < 25 --> normal weight, BMI < 18.5 --> underweight\n",
    "\n",
    "def average_per_bmi(data):\n",
    "    bmi_o = 0\n",
    "    bmi_ov = 0\n",
    "    bmi_n = 0\n",
    "    bmi_uw = 0\n",
    "    count_o = 0\n",
    "    count_ov = 0\n",
    "    count_n = 0\n",
    "    count_uw = 0\n",
    "    i = 0 \n",
    "    for i in data:\n",
    "        if data[i]['BMI'] > 30:\n",
    "            bmi_o += data[i]['Insurance Cost']\n",
    "            count_o += 1\n",
    "        elif data[i]['BMI'] <= 30 and data[i]['BMI'] >= 25:\n",
    "            bmi_ov += data[i]['Insurance Cost']\n",
    "            count_ov += 1\n",
    "        elif data[i]['BMI'] >= 18.5 and data[i]['BMI'] < 25:\n",
    "            bmi_n += data[i]['Insurance Cost']\n",
    "            count_n += 1\n",
    "        else: \n",
    "            bmi_uw += data[i]['Insurance Cost']\n",
    "            count_uw += 1\n",
    "        i += 1\n",
    "    average_o = round((bmi_o / count_o), 2)\n",
    "    average_ov = round((bmi_ov / count_ov), 2)\n",
    "    average_n  =round((bmi_n / count_n), 2)\n",
    "    average_uw = round((bmi_uw / count_uw), 2)\n",
    "    return 'The average Insurance Cost for obese group is: ' + str(average_o) + ' dollars.' + '\\nThe average Insurance Cost for overweight group is: ' + str(average_ov) + ' dollars.' + '\\nThe average Insurance Cost for normal group is: ' + str(average_n) + ' dollars.' + '\\nThe average Insurance Cost for underweight group is: ' + str(average_uw) + ' dollars.'\n",
    "ave_bmi = average_per_bmi(data)\n",
    "print(ave_bmi)"
   ]
  },
  {
   "cell_type": "code",
   "execution_count": 10,
   "metadata": {},
   "outputs": [
    {
     "data": {
      "text/plain": [
       "5"
      ]
     },
     "execution_count": 10,
     "metadata": {},
     "output_type": "execute_result"
    }
   ],
   "source": [
    "# max number of children in file\n",
    "\n",
    "max(children_list)"
   ]
  },
  {
   "cell_type": "code",
   "execution_count": 11,
   "metadata": {},
   "outputs": [
    {
     "name": "stdout",
     "output_type": "stream",
     "text": [
      "The average Insurance Cost for person without children is: 12365.98 dollars.\n",
      "The average Insurance Cost for person with 1 child is: 12731.17 dollars.\n",
      "The average Insurance Cost for person with 2 childrens is: 15073.56 dollars.\n",
      "The average Insurance Cost for person with 3 childrens is: 15355.32 dollars.\n",
      "The average Insurance Cost for person with 4 childrens is: 13850.66 dollars.\n",
      "The average Insurance Cost for person with 5 childrens is: 8786.04 dollars.\n"
     ]
    }
   ],
   "source": [
    "# average Insurance Cost for people into groups according to the number of children they have\n",
    "\n",
    "def average_per_children(data):\n",
    "    total_0 = 0\n",
    "    total_1 = 0\n",
    "    total_2 = 0\n",
    "    total_3 = 0\n",
    "    total_4 = 0\n",
    "    total_5 = 0\n",
    "    count_0 = 0\n",
    "    count_1 = 0\n",
    "    count_2 = 0\n",
    "    count_3 = 0\n",
    "    count_4 = 0\n",
    "    count_5 = 0\n",
    "    i = 0\n",
    "    for i in data:\n",
    "        if data[i]['Number of Children'] == 0:\n",
    "            total_0 += data[i]['Insurance Cost']\n",
    "            count_0 += 1\n",
    "        elif data[i]['Number of Children'] == 1:\n",
    "            total_1 += data[i]['Insurance Cost']\n",
    "            count_1 += 1\n",
    "        elif data[i]['Number of Children'] == 2:\n",
    "            total_2 += data[i]['Insurance Cost']\n",
    "            count_2 += 1\n",
    "        elif data[i]['Number of Children'] == 3:\n",
    "            total_3 += data[i]['Insurance Cost']\n",
    "            count_3 +=1 \n",
    "        elif data[i]['Number of Children'] == 4:\n",
    "            total_4 += data[i]['Insurance Cost']\n",
    "            count_4 += 1\n",
    "        else:\n",
    "            total_5 += data[i]['Insurance Cost']\n",
    "            count_5 += 1\n",
    "        i += 1\n",
    "    average_0 = round((total_0 / count_0), 2)\n",
    "    average_1 = round((total_1 / count_1), 2)\n",
    "    average_2 = round((total_2 / count_2), 2)\n",
    "    average_3 = round((total_3 / count_3), 2)\n",
    "    average_4 = round((total_4 / count_4), 2)\n",
    "    average_5 = round((total_5 / count_5), 2)\n",
    "    return 'The average Insurance Cost for person without children is: ' + str(average_0) + ' dollars.' + '\\nThe average Insurance Cost for person with 1 child is: ' + str(average_1) + ' dollars.' +'\\nThe average Insurance Cost for person with 2 childrens is: ' + str(average_2) + ' dollars.' + '\\nThe average Insurance Cost for person with 3 childrens is: ' + str(average_3) + ' dollars.' + '\\nThe average Insurance Cost for person with 4 childrens is: ' + str(average_4) + ' dollars.' + '\\nThe average Insurance Cost for person with 5 childrens is: ' + str(average_5) + ' dollars.'\n",
    "ave_child = average_per_children(data)\n",
    "print(ave_child)"
   ]
  },
  {
   "cell_type": "code",
   "execution_count": 12,
   "metadata": {},
   "outputs": [
    {
     "data": {
      "text/plain": [
       "18"
      ]
     },
     "execution_count": 12,
     "metadata": {},
     "output_type": "execute_result"
    }
   ],
   "source": [
    "# min age for population\n",
    "min(ages)\n"
   ]
  },
  {
   "cell_type": "code",
   "execution_count": 13,
   "metadata": {},
   "outputs": [
    {
     "data": {
      "text/plain": [
       "64"
      ]
     },
     "execution_count": 13,
     "metadata": {},
     "output_type": "execute_result"
    }
   ],
   "source": [
    "# max age for population \n",
    "max(ages)"
   ]
  },
  {
   "cell_type": "code",
   "execution_count": 14,
   "metadata": {},
   "outputs": [
    {
     "name": "stdout",
     "output_type": "stream",
     "text": [
      "The average Age for population in file is: 39 years.\n"
     ]
    }
   ],
   "source": [
    "# average age for population in file\n",
    "\n",
    "def average_age(ages):\n",
    "    total_age = 0\n",
    "    for num in ages:\n",
    "        total_age += num\n",
    "        average_age = round((total_age / len(ages)))\n",
    "    return 'The average Age for population in file is: ' + str(average_age) + ' years.'\n",
    "ave_age = average_age(ages)\n",
    "print(ave_age)"
   ]
  },
  {
   "cell_type": "code",
   "execution_count": 15,
   "metadata": {},
   "outputs": [
    {
     "name": "stdout",
     "output_type": "stream",
     "text": [
      "Average age for people without children is: 38 years.\n",
      "Average age for people with 1 child is: 39 years.\n",
      "Average age for people with 2 childrens is: 39 years.\n",
      "Average age for people with 3 childrens is: 42 years.\n",
      "Average age for people with 4 childrens is: 39 years.\n",
      "Average age for people with 5 childrens is: 36 years.\n"
     ]
    }
   ],
   "source": [
    "# average age for people into groups according to the number of children they have\n",
    "\n",
    "def average_age_per_child(data):\n",
    "    total_0 = 0\n",
    "    total_1 = 0\n",
    "    total_2 = 0\n",
    "    total_3 = 0\n",
    "    total_4 = 0\n",
    "    total_5 = 0\n",
    "    count_0 = 0\n",
    "    count_1 = 0\n",
    "    count_2 = 0\n",
    "    count_3 = 0\n",
    "    count_4 = 0\n",
    "    count_5 = 0\n",
    "    i = 0 \n",
    "    for i in data:\n",
    "        if data[i]['Number of Children'] == 0:\n",
    "            total_0 += data[i]['Age']\n",
    "            count_0 += 1\n",
    "        elif data[i]['Number of Children'] == 1:\n",
    "            total_1 += data[i]['Age']\n",
    "            count_1 += 1\n",
    "        elif data[i]['Number of Children'] == 2:\n",
    "            total_2 += data[i]['Age']\n",
    "            count_2 += 1\n",
    "        elif data[i]['Number of Children'] == 3:\n",
    "            total_3 += data[i]['Age']\n",
    "            count_3 += 1\n",
    "        elif data[i]['Number of Children'] == 4:\n",
    "            total_4 += data[i]['Age']\n",
    "            count_4 += 1 \n",
    "        else:\n",
    "            total_5 += data[i]['Age']\n",
    "            count_5 += 1\n",
    "        i += 1\n",
    "    average_0 = round(total_0 / count_0)\n",
    "    average_1 = round(total_1 / count_1)\n",
    "    average_2 = round(total_2 / count_2)\n",
    "    average_3 = round(total_3 / count_3)\n",
    "    average_4 = round(total_4 / count_4)\n",
    "    average_5 = round(total_5 / count_5)\n",
    "    return 'Average age for people without children is: ' + str(average_0) + ' years.' +'\\nAverage age for people with 1 child is: ' + str(average_1) + ' years.' + '\\nAverage age for people with 2 childrens is: ' + str(average_2) + ' years.' + '\\nAverage age for people with 3 childrens is: ' + str(average_3) + ' years.' + '\\nAverage age for people with 4 childrens is: ' + str(average_4) + ' years.' + '\\nAverage age for people with 5 childrens is: ' + str(average_5) + ' years.'\n",
    "ave_age_child = average_age_per_child(data)\n",
    "print(ave_age_child)"
   ]
  },
  {
   "cell_type": "code",
   "execution_count": 16,
   "metadata": {},
   "outputs": [
    {
     "name": "stdout",
     "output_type": "stream",
     "text": [
      "Average Insurance Cost for Baby Boomers is: 18795.99 dollars.\n",
      "Average Insurance Cost for Generation X is: 15290.01 dollars.\n",
      "Average Insurance Cost for Millenials is: 10940.94 dollars.\n",
      "Average Insurance Cost for Generation Z is: 8828.03 dollars.\n"
     ]
    }
   ],
   "source": [
    "# average Insurance Cost for people into groups according to the age generation they belong\n",
    "# Baby Boomers --> 56-74, Generation X --> 40-55, Millenials --> 24-39, Generation Z --> up to 23 years\n",
    "# https://www.pewresearch.org/fact-tank/2019/01/17/where-millennials-end-and-generation-z-begins/\n",
    "\n",
    "def average_cost_per_generation(data):\n",
    "    tot_bb = 0\n",
    "    tot_gx = 0\n",
    "    tot_m = 0\n",
    "    tot_gz = 0\n",
    "    count_bb = 0\n",
    "    count_gx = 0\n",
    "    count_m = 0\n",
    "    count_gz = 0\n",
    "    i = 0\n",
    "    for i in data:\n",
    "        if data[i]['Age'] <= 23:\n",
    "            tot_gz += data[i]['Insurance Cost']\n",
    "            count_gz += 1\n",
    "        elif data[i]['Age'] > 23 and data[i]['Age'] <= 39:\n",
    "            tot_m += data[i]['Insurance Cost']\n",
    "            count_m += 1\n",
    "        elif data[i]['Age'] > 39 and data[i]['Age'] <= 55:\n",
    "            tot_gx += data[i]['Insurance Cost']\n",
    "            count_gx += 1\n",
    "        else:\n",
    "            tot_bb += data[i]['Insurance Cost']\n",
    "            count_bb += 1\n",
    "        i += 1\n",
    "    average_bb = round((tot_bb / count_bb), 2)\n",
    "    average_gx = round((tot_gx / count_gx), 2)\n",
    "    average_m = round((tot_m / count_m), 2)\n",
    "    average_gz = round((tot_gz / count_gz), 2)\n",
    "    return 'Average Insurance Cost for Baby Boomers is: ' + str(average_bb) + ' dollars.' + '\\nAverage Insurance Cost for Generation X is: ' + str(average_gx) + ' dollars.' + '\\nAverage Insurance Cost for Millenials is: ' + str(average_m) + ' dollars.' + '\\nAverage Insurance Cost for Generation Z is: ' + str(average_gz) + ' dollars.'\n",
    "ave_gen = average_cost_per_generation(data)\n",
    "print(ave_gen)"
   ]
  },
  {
   "cell_type": "code",
   "execution_count": 17,
   "metadata": {},
   "outputs": [
    {
     "name": "stdout",
     "output_type": "stream",
     "text": [
      "The average Insurance Cost for women in Age Generation is: \n",
      "Baby Boomers: 18024.64 dollars.\n",
      "Generation X: 14703.74 dollars.\n",
      "Millenials: 9520.55 dollars.\n",
      "Generation Z: 8870.32 dollars.\n",
      "The average Insurance Cost for men in Age Generation is: \n",
      "Baby Boomers: 19596.45 dollars.\n",
      "Generation X: 15876.28 dollars.\n",
      "Millenials: 12308.72 dollars.\n",
      "Generation Z: 8789.0 dollars.\n"
     ]
    }
   ],
   "source": [
    "# average Insurance Cost for women and men according to the Age Generation they belong\n",
    "\n",
    "def average_per_gender_generation(data):\n",
    "    w_bb = 0\n",
    "    w_gx = 0\n",
    "    w_m = 0\n",
    "    w_gz = 0\n",
    "    m_bb =0\n",
    "    m_gx = 0\n",
    "    m_m = 0\n",
    "    m_gz = 0\n",
    "    c_w_bb = 0\n",
    "    c_w_gx = 0\n",
    "    c_w_m = 0\n",
    "    c_w_gz = 0\n",
    "    c_m_bb = 0\n",
    "    c_m_gx = 0\n",
    "    c_m_m = 0\n",
    "    c_m_gz = 0\n",
    "    i = 0 \n",
    "    for i in data:\n",
    "        if data[i]['Sex'] == 'female' and data[i]['Age'] <= 23:\n",
    "            w_gz += data[i]['Insurance Cost']\n",
    "            c_w_gz += 1\n",
    "        elif data[i]['Sex'] == 'female' and data[i]['Age'] > 23 and data[i]['Age'] <= 39:\n",
    "            w_m += data[i]['Insurance Cost']\n",
    "            c_w_m += 1\n",
    "        elif data[i]['Sex'] == 'female' and data[i]['Age'] > 39 and data[i]['Age'] <= 55:\n",
    "            w_gx += data[i]['Insurance Cost']\n",
    "            c_w_gx += 1\n",
    "        elif data[i]['Sex'] == 'female' and data[i]['Age'] > 55:\n",
    "            w_bb += data[i]['Insurance Cost']\n",
    "            c_w_bb += 1\n",
    "        elif data[i]['Sex'] == 'male' and data[i]['Age'] <= 23:\n",
    "            m_gz += data[i]['Insurance Cost']\n",
    "            c_m_gz += 1\n",
    "        elif data[i]['Sex'] == 'male' and data[i]['Age'] > 23 and data[i]['Age'] <= 39:\n",
    "            m_m += data[i]['Insurance Cost']\n",
    "            c_m_m += 1\n",
    "        elif data[i]['Sex'] == 'male' and data[i]['Age'] > 39 and data[i]['Age'] <= 55:\n",
    "            m_gx += data[i]['Insurance Cost']\n",
    "            c_m_gx += 1\n",
    "        else:\n",
    "            m_bb += data[i]['Insurance Cost']\n",
    "            c_m_bb += 1\n",
    "        i += 1\n",
    "    average_w_bb = round((w_bb / c_w_bb), 2)\n",
    "    average_w_gx = round((w_gx / c_w_gx), 2)\n",
    "    average_w_m = round((w_m / c_w_m), 2)\n",
    "    average_w_gz = round((w_gz / c_w_gz), 2)\n",
    "    average_m_bb = round((m_bb / c_m_bb), 2)\n",
    "    average_m_gx = round((m_gx / c_m_gx), 2)\n",
    "    average_m_m = round((m_m / c_m_m), 2)\n",
    "    average_m_gz = round((m_gz / c_m_gz), 2)\n",
    "    return 'The average Insurance Cost for women in Age Generation is: ' + '\\nBaby Boomers: ' + str(average_w_bb) + ' dollars.' +'\\nGeneration X: ' + str(average_w_gx) + ' dollars.' + '\\nMillenials: ' + str(average_w_m) + ' dollars.' + '\\nGeneration Z: ' + str(average_w_gz) + ' dollars.' + '\\nThe average Insurance Cost for men in Age Generation is: ' + '\\nBaby Boomers: ' + str(average_m_bb) + ' dollars.' +'\\nGeneration X: ' + str(average_m_gx) + ' dollars.' + '\\nMillenials: ' + str(average_m_m) + ' dollars.' + '\\nGeneration Z: ' + str(average_m_gz) + ' dollars.' \n",
    "ave_cost_gen = average_per_gender_generation(data)\n",
    "print(ave_cost_gen)        "
   ]
  },
  {
   "cell_type": "code",
   "execution_count": 18,
   "metadata": {},
   "outputs": [
    {
     "name": "stdout",
     "output_type": "stream",
     "text": [
      "The average Insurance Cost for smoker in Age Generation is: \n",
      "Baby Boomers: 39513.0 dollars.\n",
      "Generation X: 34210.67 dollars.\n",
      "Millenials: 29219.02 dollars.\n",
      "Generation Z: 27640.21 dollars.\n",
      "The average Insurance Cost for non-smoker in Age Generation is: \n",
      "Baby Boomers: 14087.58 dollars.\n",
      "Generation X: 10533.42 dollars.\n",
      "Millenials: 6015.7 dollars.\n",
      "Generation Z: 3645.09 dollars.\n"
     ]
    }
   ],
   "source": [
    "# average Insurance Cost for smoker and non-smoker according to the Age Generation they belong\n",
    "\n",
    "def average_per_smoker_generation(data):\n",
    "    s_bb = 0\n",
    "    s_gx = 0\n",
    "    s_m = 0\n",
    "    s_gz = 0\n",
    "    ns_bb = 0\n",
    "    ns_gx = 0\n",
    "    ns_m = 0\n",
    "    ns_gz = 0\n",
    "    c_s_bb = 0\n",
    "    c_s_gx = 0\n",
    "    c_s_m = 0\n",
    "    c_s_gz = 0\n",
    "    c_ns_bb = 0\n",
    "    c_ns_gx = 0\n",
    "    c_ns_m =0\n",
    "    c_ns_gz = 0\n",
    "    i = 0\n",
    "    for i in data:\n",
    "        if data[i]['Smoker Status'] == 'yes' and data[i]['Age'] <= 23:\n",
    "            s_gz += data[i]['Insurance Cost']\n",
    "            c_s_gz += 1\n",
    "        elif data[i]['Smoker Status'] == 'yes' and data[i]['Age'] > 23 and data[i]['Age'] <= 39:\n",
    "            s_m += data[i]['Insurance Cost']\n",
    "            c_s_m += 1\n",
    "        elif data[i]['Smoker Status'] == 'yes' and data[i]['Age'] > 39 and data[i]['Age'] <= 55:\n",
    "            s_gx += data[i]['Insurance Cost']\n",
    "            c_s_gx += 1\n",
    "        elif data[i]['Smoker Status'] == 'yes' and data[i]['Age'] > 55:\n",
    "            s_bb += data[i]['Insurance Cost']\n",
    "            c_s_bb += 1\n",
    "        elif data[i]['Smoker Status'] == 'no' and data[i]['Age'] <= 23:\n",
    "            ns_gz += data[i]['Insurance Cost']\n",
    "            c_ns_gz += 1\n",
    "        elif data[i]['Smoker Status'] == 'no' and data[i]['Age'] > 23 and data[i]['Age'] <= 39:\n",
    "            ns_m += data[i]['Insurance Cost']\n",
    "            c_ns_m += 1\n",
    "        elif data[i]['Smoker Status'] == 'no' and data[i]['Age'] > 39 and data[i]['Age'] <= 55:\n",
    "            ns_gx += data[i]['Insurance Cost']\n",
    "            c_ns_gx += 1\n",
    "        else:\n",
    "            ns_bb += data[i]['Insurance Cost']\n",
    "            c_ns_bb += 1\n",
    "        i += 1\n",
    "    average_s_bb = round((s_bb / c_s_bb), 2)\n",
    "    average_s_gx = round((s_gx / c_s_gx), 2)\n",
    "    average_s_m = round((s_m / c_s_m), 2)\n",
    "    average_s_gz = round((s_gz / c_s_gz), 2)\n",
    "    average_ns_bb = round((ns_bb / c_ns_bb), 2)\n",
    "    average_ns_gx = round((ns_gx / c_ns_gx), 2)\n",
    "    average_ns_m = round((ns_m / c_ns_m), 2)\n",
    "    average_ns_gz = round((ns_gz / c_ns_gz), 2)\n",
    "    return 'The average Insurance Cost for smoker in Age Generation is: ' + '\\nBaby Boomers: ' + str(average_s_bb) + ' dollars.' + '\\nGeneration X: ' + str(average_s_gx) + ' dollars.' + '\\nMillenials: ' + str(average_s_m) + ' dollars.' +'\\nGeneration Z: ' + str(average_s_gz) + ' dollars.' + '\\nThe average Insurance Cost for non-smoker in Age Generation is: ' + '\\nBaby Boomers: ' + str(average_ns_bb) + ' dollars.' + '\\nGeneration X: ' + str(average_ns_gx) + ' dollars.' + '\\nMillenials: ' + str(average_ns_m) + ' dollars.' +'\\nGeneration Z: ' + str(average_ns_gz) + ' dollars.'\n",
    "ave_smoker = average_per_smoker_generation(data)\n",
    "print(ave_smoker)          "
   ]
  },
  {
   "cell_type": "code",
   "execution_count": 19,
   "metadata": {},
   "outputs": [
    {
     "name": "stdout",
     "output_type": "stream",
     "text": [
      "The average Insurance Cost for smoking women in Age Generation is for: \n",
      "Baby Boomers: 14520.56 dollars.\n",
      "Generation X: 32792.75 dollars.\n",
      "Millenials: 28376.68 dollars.\n",
      "Generation Z: 26170.71 dollars.\n",
      "The average Insurance Cost for non-smoking women in Age Generation is for: \n",
      "Baby Boomers: 14520.56 dollars.\n",
      "Generation X: 10890.38 dollars.\n",
      "Millenials: 5964.82 dollars.\n",
      "Generation Z: 4085.11 dollars.\n",
      "The average Insurance Cost for smoking men in Age Generation is for: \n",
      "Baby Boomers: 41227.01 dollars.\n",
      "Generation X: 35294.96 dollars.\n",
      "Millenials: 29706.7 dollars.\n",
      "Generation Z: 29004.75 dollars.\n",
      "The average Insurance Cost for non-smoking men in Age Generation is for: \n",
      "Baby Boomers: 13602.44 dollars.\n",
      "Generation X: 10151.7 dollars.\n",
      "Millenials: 6071.7 dollars.\n",
      "Generation Z: 3239.58 dollars.\n"
     ]
    }
   ],
   "source": [
    "# average Insurance Cost for [smoker and non-smoker] and [female and male] according to the Age Generation they belong\n",
    "\n",
    "def gender_smoker_generation(data):\n",
    "    w_s_bb = 0\n",
    "    w_s_gx = 0\n",
    "    w_s_m = 0\n",
    "    w_s_gz = 0\n",
    "    c_w_s_bb = 0\n",
    "    c_w_s_gx = 0\n",
    "    c_w_s_m = 0 \n",
    "    c_w_s_gz = 0\n",
    "    w_ns_bb = 0\n",
    "    w_ns_gx = 0\n",
    "    w_ns_m = 0\n",
    "    w_ns_gz = 0\n",
    "    c_w_ns_bb = 0\n",
    "    c_w_ns_gx = 0\n",
    "    c_w_ns_m = 0\n",
    "    c_w_ns_gz = 0\n",
    "    m_s_bb = 0\n",
    "    m_s_gx = 0\n",
    "    m_s_m = 0\n",
    "    m_s_gz = 0\n",
    "    c_m_s_bb = 0\n",
    "    c_m_s_gx = 0\n",
    "    c_m_s_m = 0\n",
    "    c_m_s_gz = 0\n",
    "    m_ns_bb = 0\n",
    "    m_ns_gx = 0\n",
    "    m_ns_m = 0\n",
    "    m_ns_gz = 0\n",
    "    c_m_ns_bb = 0\n",
    "    c_m_ns_gx = 0\n",
    "    c_m_ns_m = 0\n",
    "    c_m_ns_gz = 0\n",
    "    i = 0\n",
    "    for i in data:\n",
    "        if data[i]['Smoker Status'] == 'yes' and data[i]['Sex'] == 'female' and data[i]['Age'] <= 23:\n",
    "            w_s_gz += data[i]['Insurance Cost']\n",
    "            c_w_s_gz += 1\n",
    "        elif data[i]['Smoker Status'] == 'yes' and data[i]['Sex'] == 'female' and data[i]['Age'] > 23 and data[i]['Age'] <= 39:\n",
    "            w_s_m += data[i]['Insurance Cost']\n",
    "            c_w_s_m += 1\n",
    "        elif data[i]['Smoker Status'] == 'yes' and data[i]['Sex'] == 'female' and data[i]['Age'] > 39 and data[i]['Age'] <= 55:\n",
    "            w_s_gx += data[i]['Insurance Cost']\n",
    "            c_w_s_gx += 1\n",
    "        elif data[i]['Smoker Status'] == 'yes' and data[i]['Sex'] == 'female' and data[i]['Age'] > 55:\n",
    "            w_s_bb += data[i]['Insurance Cost']\n",
    "            c_w_s_bb += 1\n",
    "        elif data[i]['Smoker Status'] == 'no' and data[i]['Sex'] == 'female' and data[i]['Age'] <= 23:\n",
    "            w_ns_gz += data[i]['Insurance Cost']\n",
    "            c_w_ns_gz += 1\n",
    "        elif data[i]['Smoker Status'] == 'no' and data[i]['Sex'] == 'female' and data[i]['Age'] > 23 and data[i]['Age'] <= 39:\n",
    "            w_ns_m += data[i]['Insurance Cost']\n",
    "            c_w_ns_m += 1\n",
    "        elif data[i]['Smoker Status'] == 'no' and data[i]['Sex'] == 'female' and data[i]['Age'] > 39 and data[i]['Age'] <= 55:\n",
    "            w_ns_gx += data[i]['Insurance Cost']\n",
    "            c_w_ns_gx += 1\n",
    "        elif data[i]['Smoker Status'] == 'no' and data[i]['Sex'] == 'female' and data[i]['Age'] > 55:\n",
    "            w_ns_bb += data[i]['Insurance Cost']\n",
    "            c_w_ns_bb += 1\n",
    "        elif data[i]['Smoker Status'] == 'yes' and data[i]['Sex'] == 'male' and data[i]['Age'] <= 23:\n",
    "            m_s_gz += data[i]['Insurance Cost']\n",
    "            c_m_s_gz += 1\n",
    "        elif data[i]['Smoker Status'] == 'yes' and data[i]['Sex'] == 'male' and data[i]['Age'] > 23 and data[i]['Age'] <= 39:\n",
    "            m_s_m += data[i]['Insurance Cost']\n",
    "            c_m_s_m += 1\n",
    "        elif data[i]['Smoker Status'] == 'yes' and data[i]['Sex'] == 'male' and data[i]['Age'] > 39 and data[i]['Age'] <= 55:\n",
    "            m_s_gx += data[i]['Insurance Cost']\n",
    "            c_m_s_gx += 1\n",
    "        elif data[i]['Smoker Status'] == 'yes' and data[i]['Sex'] == 'male' and data[i]['Age'] > 55:\n",
    "            m_s_bb += data[i]['Insurance Cost']\n",
    "            c_m_s_bb += 1\n",
    "        elif data[i]['Smoker Status'] == 'no' and data[i]['Sex'] == 'male' and data[i]['Age'] <= 23:\n",
    "            m_ns_gz += data[i]['Insurance Cost']\n",
    "            c_m_ns_gz += 1\n",
    "        elif data[i]['Smoker Status'] == 'no' and data[i]['Sex'] == 'male' and data[i]['Age'] > 23 and data[i]['Age'] <= 39:\n",
    "            m_ns_m += data[i]['Insurance Cost']\n",
    "            c_m_ns_m += 1\n",
    "        elif data[i]['Smoker Status'] == 'no' and data[i]['Sex'] == 'male' and data[i]['Age'] > 39 and data[i]['Age'] <= 55:\n",
    "            m_ns_gx += data[i]['Insurance Cost']\n",
    "            c_m_ns_gx += 1\n",
    "        elif data[i]['Smoker Status'] == 'no' and data[i]['Sex'] == 'male' and data[i]['Age'] > 55:\n",
    "            m_ns_bb += data[i]['Insurance Cost']\n",
    "            c_m_ns_bb += 1\n",
    "        i += 1\n",
    "    a_w_s_bb = round((w_s_bb / c_w_s_bb), 2)\n",
    "    a_w_s_gx = round((w_s_gx / c_w_s_gx), 2)\n",
    "    a_w_s_m = round((w_s_m / c_w_s_m), 2)\n",
    "    a_w_s_gz = round((w_s_gz / c_w_s_gz), 2)\n",
    "    a_w_ns_bb = round((w_ns_bb / c_w_ns_bb), 2)\n",
    "    a_w_ns_gx = round((w_ns_gx / c_w_ns_gx), 2)\n",
    "    a_w_ns_m = round((w_ns_m / c_w_ns_m), 2)\n",
    "    a_w_ns_gz = round((w_ns_gz / c_w_ns_gz), 2)\n",
    "    a_w_s_bb = round((w_ns_bb / c_w_ns_bb), 2)\n",
    "    a_m_s_bb = round((m_s_bb / c_m_s_bb), 2)\n",
    "    a_m_s_gx = round((m_s_gx / c_m_s_gx), 2)\n",
    "    a_m_s_m = round((m_s_m / c_m_s_m), 2)\n",
    "    a_m_s_gz = round((m_s_gz / c_m_s_gz), 2)\n",
    "    a_m_ns_bb = round((m_ns_bb / c_m_ns_bb), 2)\n",
    "    a_m_ns_gx = round((m_ns_gx / c_m_ns_gx), 2)\n",
    "    a_m_ns_m = round((m_ns_m / c_m_ns_m), 2)\n",
    "    a_m_ns_gz = round((m_ns_gz / c_m_ns_gz), 2)\n",
    "    return 'The average Insurance Cost for smoking women in Age Generation is for: ' + '\\nBaby Boomers: ' + str(a_w_s_bb) + ' dollars.' + '\\nGeneration X: ' + str(a_w_s_gx) + ' dollars.' + '\\nMillenials: ' + str(a_w_s_m) + ' dollars.' + '\\nGeneration Z: ' + str(a_w_s_gz) + ' dollars.' + '\\nThe average Insurance Cost for non-smoking women in Age Generation is for: ' + '\\nBaby Boomers: ' + str(a_w_ns_bb) + ' dollars.' + '\\nGeneration X: ' + str(a_w_ns_gx) + ' dollars.' + '\\nMillenials: ' + str(a_w_ns_m) + ' dollars.' + '\\nGeneration Z: ' + str(a_w_ns_gz) + ' dollars.' + '\\nThe average Insurance Cost for smoking men in Age Generation is for: ' + '\\nBaby Boomers: ' + str(a_m_s_bb) + ' dollars.' + '\\nGeneration X: ' + str(a_m_s_gx) + ' dollars.' + '\\nMillenials: ' + str(a_m_s_m) + ' dollars.' + '\\nGeneration Z: ' + str(a_m_s_gz) + ' dollars.' + '\\nThe average Insurance Cost for non-smoking men in Age Generation is for: ' + '\\nBaby Boomers: ' + str(a_m_ns_bb) + ' dollars.' + '\\nGeneration X: ' + str(a_m_ns_gx) + ' dollars.' + '\\nMillenials: ' + str(a_m_ns_m) + ' dollars.' + '\\nGeneration Z: ' + str(a_m_ns_gz) + ' dollars.'\n",
    "ave_gen_smok = gender_smoker_generation(data)\n",
    "print(ave_gen_smok)"
   ]
  },
  {
   "cell_type": "code",
   "execution_count": null,
   "metadata": {},
   "outputs": [],
   "source": []
  }
 ],
 "metadata": {
  "kernelspec": {
   "display_name": "Python 3",
   "language": "python",
   "name": "python3"
  },
  "language_info": {
   "codemirror_mode": {
    "name": "ipython",
    "version": 3
   },
   "file_extension": ".py",
   "mimetype": "text/x-python",
   "name": "python",
   "nbconvert_exporter": "python",
   "pygments_lexer": "ipython3",
   "version": "3.8.3"
  }
 },
 "nbformat": 4,
 "nbformat_minor": 4
}
